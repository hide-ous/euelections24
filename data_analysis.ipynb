{
 "cells": [
  {
   "cell_type": "code",
   "execution_count": 1,
   "metadata": {
    "collapsed": true,
    "ExecuteTime": {
     "end_time": "2024-06-14T12:15:42.268567700Z",
     "start_time": "2024-06-14T12:15:40.080965800Z"
    }
   },
   "outputs": [],
   "source": [
    "import pandas as pd\n",
    "from collections import defaultdict"
   ]
  },
  {
   "cell_type": "code",
   "execution_count": 18,
   "outputs": [],
   "source": [
    "platform = 'ig'\n",
    "# platform = 'fb'\n",
    "\n",
    "df = pd.read_json(f'data/{platform}/{\"log20240614050853\" if platform==\"ig\" else \"log20240614080312\"}.njson', lines=True)"
   ],
   "metadata": {
    "collapsed": false,
    "ExecuteTime": {
     "end_time": "2024-06-14T12:17:55.336651500Z",
     "start_time": "2024-06-14T12:17:55.072379700Z"
    }
   }
  },
  {
   "cell_type": "code",
   "execution_count": 19,
   "outputs": [
    {
     "data": {
      "text/plain": "2300"
     },
     "execution_count": 19,
     "metadata": {},
     "output_type": "execute_result"
    }
   ],
   "source": [
    "len(df)"
   ],
   "metadata": {
    "collapsed": false,
    "ExecuteTime": {
     "end_time": "2024-06-14T12:17:55.350962800Z",
     "start_time": "2024-06-14T12:17:55.339077100Z"
    }
   }
  },
  {
   "cell_type": "code",
   "execution_count": 20,
   "outputs": [
    {
     "data": {
      "text/plain": "     platformId   platform                date              updated   type  \\\n0  3.389795e+28  Instagram 2024-06-13 21:45:28  2024-06-14 04:45:35  photo   \n1  3.389730e+28  Instagram 2024-06-13 19:35:22  2024-06-14 05:48:50  photo   \n2  3.389726e+28  Instagram 2024-06-13 19:27:17  2024-06-14 06:13:31  photo   \n3  3.389726e+28  Instagram 2024-06-13 19:27:01  2024-06-14 06:33:32  photo   \n4  3.389704e+27  Instagram 2024-06-13 18:42:49  2024-06-14 07:09:39  album   \n\n                                         description  \\\n0  Scusate il ritardo: sono stati giorni convulsi...   \n1  Quello che sta succedendo nel Paese e nelle su...   \n2  “Bella Ciao” e’ canto simbolo della Resistenza...   \n3  Le sanzioni stabilite dall’Ufficio di presiden...   \n4  In piazza contro ogni autonomia differenziata,...   \n\n                                    postUrl  subscriberCount     score  \\\n0  https://www.instagram.com/p/C8K-P_OsCwA/            76688 -1.215128   \n1  https://www.instagram.com/p/C8KvXBctwDk/             6539 -6.714286   \n2  https://www.instagram.com/p/C8Kub0HtsvQ/           206940  3.717406   \n3  https://www.instagram.com/p/C8KuZ7dszQx/          1788722  2.459154   \n4  https://www.instagram.com/p/C8KpWJxN3A6/            76978  1.410909   \n\n                                               media  \\\n0  [{'type': 'photo', 'url': 'https://scontent-se...   \n1  [{'type': 'photo', 'url': 'https://scontent-se...   \n2  [{'type': 'photo', 'url': 'https://scontent-se...   \n3  [{'type': 'photo', 'url': 'https://scontent-se...   \n4  [{'type': 'photo', 'url': 'https://scontent-se...   \n\n                                          statistics  \\\n0  {'actual': {'favoriteCount': 1988, 'commentCou...   \n1  {'actual': {'favoriteCount': 0, 'commentCount'...   \n2  {'actual': {'favoriteCount': 4957, 'commentCou...   \n3  {'actual': {'favoriteCount': 15026, 'commentCo...   \n4  {'actual': {'favoriteCount': 1125, 'commentCou...   \n\n                                             account  \\\n0  {'id': 23300608, 'name': 'Cecilia Strada', 'ha...   \n1  {'id': 20152676, 'name': 'Enzo Maraio', 'handl...   \n2  {'id': 2870271, 'name': 'Stefano Bonaccini', '...   \n3  {'id': 3445041, 'name': 'Giuseppe Conte', 'han...   \n4  {'id': 12106013, 'name': 'Nicola Fratoianni', ...   \n\n   likeAndViewCountsDisabled  \\\n0                      False   \n1                       True   \n2                      False   \n3                      False   \n4                      False   \n\n                                             history languageCode  legacyId  \\\n0  [{'actual': {'favoriteCount': 1988, 'commentCo...           it         0   \n1  [{'actual': {'favoriteCount': 0, 'commentCount...           it         0   \n2  [{'actual': {'favoriteCount': 4957, 'commentCo...           it         0   \n3  [{'actual': {'favoriteCount': 15026, 'commentC...           it         0   \n4  [{'actual': {'favoriteCount': 1125, 'commentCo...           it         0   \n\n                             id              scraped  \\\n0  23300608|3389795447117720576  2024-06-14 09:08:56   \n1  20152676|3389729959839203556  2024-06-14 09:08:56   \n2   2870271|3389725891079097296  2024-06-14 09:08:57   \n3   3445041|3389725761525199921  2024-06-14 09:08:57   \n4  12106013|3389703511774556218  2024-06-14 09:08:58   \n\n                                           imageText expandedLinks  \n0                                                NaN           NaN  \n1  Enzo Maraio Quello che sta succedendo nel Paes...           NaN  \n2                               PRIMA GLI ITALIANI A           NaN  \n3                                                NaN           NaN  \n4                                                NaN           NaN  ",
      "text/html": "<div>\n<style scoped>\n    .dataframe tbody tr th:only-of-type {\n        vertical-align: middle;\n    }\n\n    .dataframe tbody tr th {\n        vertical-align: top;\n    }\n\n    .dataframe thead th {\n        text-align: right;\n    }\n</style>\n<table border=\"1\" class=\"dataframe\">\n  <thead>\n    <tr style=\"text-align: right;\">\n      <th></th>\n      <th>platformId</th>\n      <th>platform</th>\n      <th>date</th>\n      <th>updated</th>\n      <th>type</th>\n      <th>description</th>\n      <th>postUrl</th>\n      <th>subscriberCount</th>\n      <th>score</th>\n      <th>media</th>\n      <th>statistics</th>\n      <th>account</th>\n      <th>likeAndViewCountsDisabled</th>\n      <th>history</th>\n      <th>languageCode</th>\n      <th>legacyId</th>\n      <th>id</th>\n      <th>scraped</th>\n      <th>imageText</th>\n      <th>expandedLinks</th>\n    </tr>\n  </thead>\n  <tbody>\n    <tr>\n      <th>0</th>\n      <td>3.389795e+28</td>\n      <td>Instagram</td>\n      <td>2024-06-13 21:45:28</td>\n      <td>2024-06-14 04:45:35</td>\n      <td>photo</td>\n      <td>Scusate il ritardo: sono stati giorni convulsi...</td>\n      <td>https://www.instagram.com/p/C8K-P_OsCwA/</td>\n      <td>76688</td>\n      <td>-1.215128</td>\n      <td>[{'type': 'photo', 'url': 'https://scontent-se...</td>\n      <td>{'actual': {'favoriteCount': 1988, 'commentCou...</td>\n      <td>{'id': 23300608, 'name': 'Cecilia Strada', 'ha...</td>\n      <td>False</td>\n      <td>[{'actual': {'favoriteCount': 1988, 'commentCo...</td>\n      <td>it</td>\n      <td>0</td>\n      <td>23300608|3389795447117720576</td>\n      <td>2024-06-14 09:08:56</td>\n      <td>NaN</td>\n      <td>NaN</td>\n    </tr>\n    <tr>\n      <th>1</th>\n      <td>3.389730e+28</td>\n      <td>Instagram</td>\n      <td>2024-06-13 19:35:22</td>\n      <td>2024-06-14 05:48:50</td>\n      <td>photo</td>\n      <td>Quello che sta succedendo nel Paese e nelle su...</td>\n      <td>https://www.instagram.com/p/C8KvXBctwDk/</td>\n      <td>6539</td>\n      <td>-6.714286</td>\n      <td>[{'type': 'photo', 'url': 'https://scontent-se...</td>\n      <td>{'actual': {'favoriteCount': 0, 'commentCount'...</td>\n      <td>{'id': 20152676, 'name': 'Enzo Maraio', 'handl...</td>\n      <td>True</td>\n      <td>[{'actual': {'favoriteCount': 0, 'commentCount...</td>\n      <td>it</td>\n      <td>0</td>\n      <td>20152676|3389729959839203556</td>\n      <td>2024-06-14 09:08:56</td>\n      <td>Enzo Maraio Quello che sta succedendo nel Paes...</td>\n      <td>NaN</td>\n    </tr>\n    <tr>\n      <th>2</th>\n      <td>3.389726e+28</td>\n      <td>Instagram</td>\n      <td>2024-06-13 19:27:17</td>\n      <td>2024-06-14 06:13:31</td>\n      <td>photo</td>\n      <td>“Bella Ciao” e’ canto simbolo della Resistenza...</td>\n      <td>https://www.instagram.com/p/C8Kub0HtsvQ/</td>\n      <td>206940</td>\n      <td>3.717406</td>\n      <td>[{'type': 'photo', 'url': 'https://scontent-se...</td>\n      <td>{'actual': {'favoriteCount': 4957, 'commentCou...</td>\n      <td>{'id': 2870271, 'name': 'Stefano Bonaccini', '...</td>\n      <td>False</td>\n      <td>[{'actual': {'favoriteCount': 4957, 'commentCo...</td>\n      <td>it</td>\n      <td>0</td>\n      <td>2870271|3389725891079097296</td>\n      <td>2024-06-14 09:08:57</td>\n      <td>PRIMA GLI ITALIANI A</td>\n      <td>NaN</td>\n    </tr>\n    <tr>\n      <th>3</th>\n      <td>3.389726e+28</td>\n      <td>Instagram</td>\n      <td>2024-06-13 19:27:01</td>\n      <td>2024-06-14 06:33:32</td>\n      <td>photo</td>\n      <td>Le sanzioni stabilite dall’Ufficio di presiden...</td>\n      <td>https://www.instagram.com/p/C8KuZ7dszQx/</td>\n      <td>1788722</td>\n      <td>2.459154</td>\n      <td>[{'type': 'photo', 'url': 'https://scontent-se...</td>\n      <td>{'actual': {'favoriteCount': 15026, 'commentCo...</td>\n      <td>{'id': 3445041, 'name': 'Giuseppe Conte', 'han...</td>\n      <td>False</td>\n      <td>[{'actual': {'favoriteCount': 15026, 'commentC...</td>\n      <td>it</td>\n      <td>0</td>\n      <td>3445041|3389725761525199921</td>\n      <td>2024-06-14 09:08:57</td>\n      <td>NaN</td>\n      <td>NaN</td>\n    </tr>\n    <tr>\n      <th>4</th>\n      <td>3.389704e+27</td>\n      <td>Instagram</td>\n      <td>2024-06-13 18:42:49</td>\n      <td>2024-06-14 07:09:39</td>\n      <td>album</td>\n      <td>In piazza contro ogni autonomia differenziata,...</td>\n      <td>https://www.instagram.com/p/C8KpWJxN3A6/</td>\n      <td>76978</td>\n      <td>1.410909</td>\n      <td>[{'type': 'photo', 'url': 'https://scontent-se...</td>\n      <td>{'actual': {'favoriteCount': 1125, 'commentCou...</td>\n      <td>{'id': 12106013, 'name': 'Nicola Fratoianni', ...</td>\n      <td>False</td>\n      <td>[{'actual': {'favoriteCount': 1125, 'commentCo...</td>\n      <td>it</td>\n      <td>0</td>\n      <td>12106013|3389703511774556218</td>\n      <td>2024-06-14 09:08:58</td>\n      <td>NaN</td>\n      <td>NaN</td>\n    </tr>\n  </tbody>\n</table>\n</div>"
     },
     "execution_count": 20,
     "metadata": {},
     "output_type": "execute_result"
    }
   ],
   "source": [
    "df.head()"
   ],
   "metadata": {
    "collapsed": false,
    "ExecuteTime": {
     "end_time": "2024-06-14T12:17:55.399029100Z",
     "start_time": "2024-06-14T12:17:55.353965100Z"
    }
   }
  },
  {
   "cell_type": "code",
   "execution_count": 21,
   "outputs": [
    {
     "data": {
      "text/plain": "2144"
     },
     "execution_count": 21,
     "metadata": {},
     "output_type": "execute_result"
    }
   ],
   "source": [
    "mask = (df['date'] >= '2024-5-13') & (df['date'] <= '2024-6-10')\n",
    "df = df.loc[mask]\n",
    "len(df)"
   ],
   "metadata": {
    "collapsed": false,
    "ExecuteTime": {
     "end_time": "2024-06-14T12:17:55.414147600Z",
     "start_time": "2024-06-14T12:17:55.401133800Z"
    }
   }
  },
  {
   "cell_type": "code",
   "execution_count": 22,
   "outputs": [],
   "source": [
    "histories = defaultdict(list)\n",
    "\n",
    "def add_to_histories(row):\n",
    "    post_id = row.id\n",
    "    post_date = row.date\n",
    "    for entry in row.history:\n",
    "        histories[post_id].append(pd.Series(entry['actual']|{'history_date':entry['date']}|{'timestep':entry['timestep']}|{'post_date':post_date}))\n",
    "_=df.apply(add_to_histories, axis=1)"
   ],
   "metadata": {
    "collapsed": false,
    "ExecuteTime": {
     "end_time": "2024-06-14T12:18:02.378641Z",
     "start_time": "2024-06-14T12:17:55.416207800Z"
    }
   }
  },
  {
   "cell_type": "code",
   "execution_count": 23,
   "outputs": [
    {
     "name": "stdout",
     "output_type": "stream",
     "text": [
      "[favoriteCount                   8684\n",
      "commentCount                     425\n",
      "history_date     2024-06-14 00:31:37\n",
      "timestep                          55\n",
      "post_date        2024-06-09 23:06:19\n",
      "dtype: object, favoriteCount                   8683\n",
      "commentCount                     425\n",
      "history_date     2024-06-13 17:49:02\n",
      "timestep                          54\n",
      "post_date        2024-06-09 23:06:19\n",
      "dtype: object, favoriteCount                   8675\n",
      "commentCount                     420\n",
      "history_date     2024-06-13 10:47:24\n",
      "timestep                          52\n",
      "post_date        2024-06-09 23:06:19\n",
      "dtype: object, favoriteCount                   8669\n",
      "commentCount                     417\n",
      "history_date     2024-06-12 22:40:56\n",
      "timestep                          50\n",
      "post_date        2024-06-09 23:06:19\n",
      "dtype: object, favoriteCount                   8653\n",
      "commentCount                     405\n",
      "history_date     2024-06-12 14:56:40\n",
      "timestep                          49\n",
      "post_date        2024-06-09 23:06:19\n",
      "dtype: object, favoriteCount                   8637\n",
      "commentCount                     400\n",
      "history_date     2024-06-12 08:19:01\n",
      "timestep                          48\n",
      "post_date        2024-06-09 23:06:19\n",
      "dtype: object, favoriteCount                   8633\n",
      "commentCount                     400\n",
      "history_date     2024-06-12 02:42:03\n",
      "timestep                          47\n",
      "post_date        2024-06-09 23:06:19\n",
      "dtype: object, favoriteCount                   8616\n",
      "commentCount                     399\n",
      "history_date     2024-06-11 20:04:47\n",
      "timestep                          45\n",
      "post_date        2024-06-09 23:06:19\n",
      "dtype: object, favoriteCount                   8570\n",
      "commentCount                     374\n",
      "history_date     2024-06-11 12:21:01\n",
      "timestep                          43\n",
      "post_date        2024-06-09 23:06:19\n",
      "dtype: object, favoriteCount                   8511\n",
      "commentCount                     354\n",
      "history_date     2024-06-11 07:05:29\n",
      "timestep                          41\n",
      "post_date        2024-06-09 23:06:19\n",
      "dtype: object, favoriteCount                   8471\n",
      "commentCount                     339\n",
      "history_date     2024-06-11 01:45:05\n",
      "timestep                          39\n",
      "post_date        2024-06-09 23:06:19\n",
      "dtype: object, favoriteCount                   8425\n",
      "commentCount                     337\n",
      "history_date     2024-06-10 21:43:01\n",
      "timestep                          37\n",
      "post_date        2024-06-09 23:06:19\n",
      "dtype: object, favoriteCount                   8367\n",
      "commentCount                     334\n",
      "history_date     2024-06-10 20:11:21\n",
      "timestep                          36\n",
      "post_date        2024-06-09 23:06:19\n",
      "dtype: object, favoriteCount                   8056\n",
      "commentCount                     317\n",
      "history_date     2024-06-10 13:46:31\n",
      "timestep                          29\n",
      "post_date        2024-06-09 23:06:19\n",
      "dtype: object, favoriteCount                   6311\n",
      "commentCount                     210\n",
      "history_date     2024-06-10 08:54:16\n",
      "timestep                          22\n",
      "post_date        2024-06-09 23:06:19\n",
      "dtype: object, favoriteCount                   2146\n",
      "commentCount                      89\n",
      "history_date     2024-06-10 04:08:59\n",
      "timestep                          13\n",
      "post_date        2024-06-09 23:06:19\n",
      "dtype: object]\n"
     ]
    }
   ],
   "source": [
    "for k, v in histories.items():\n",
    "    print(v)\n",
    "    break"
   ],
   "metadata": {
    "collapsed": false,
    "ExecuteTime": {
     "end_time": "2024-06-14T12:18:02.413159Z",
     "start_time": "2024-06-14T12:18:02.382162600Z"
    }
   }
  },
  {
   "cell_type": "code",
   "execution_count": 65,
   "outputs": [],
   "source": [
    "# documentation for timesteps: https://help.crowdtangle.com/en/articles/3213537-crowdtangle-codebook\n",
    "def process_timesteps(k, v):\n",
    "    vv = pd.DataFrame(v)\n",
    "    def _process(history_24, suffix):\n",
    "        if platform=='ig':\n",
    "            history_24 = history_24[['commentCount', 'favoriteCount']].rename(columns=lambda x:x+suffix)\n",
    "        else:\n",
    "            history_24['reactionCount'] = history_24[['likeCount', 'loveCount', 'wowCount',\n",
    "                   'hahaCount', 'sadCount', 'angryCount', 'thankfulCount', 'careCount',\n",
    "                   ]].sum(axis=1)\n",
    "            history_24 = history_24[['likeCount', 'reactionCount', 'commentCount', 'shareCount']].rename(columns=lambda x:x+suffix)\n",
    "        history_24['post_id'] = k\n",
    "        history_24.set_index('post_id', inplace=True)\n",
    "        return history_24\n",
    "\n",
    "    history_24 = vv[vv.timestep.isin([38-1, 38, 38+1])].head(2).tail(1).copy()\n",
    "    history_24=_process(history_24, '24')\n",
    "\n",
    "    history_48 = vv[vv.timestep.isin([46-1, 46, 46+1])].head(2).tail(1).copy()\n",
    "    history_48=_process(history_48, '48')\n",
    "\n",
    "    return pd.concat((history_24, history_48), axis=1)\n"
   ],
   "metadata": {
    "collapsed": false,
    "ExecuteTime": {
     "end_time": "2024-06-14T12:44:42.208720700Z",
     "start_time": "2024-06-14T12:44:42.184493Z"
    }
   }
  },
  {
   "cell_type": "code",
   "execution_count": 66,
   "outputs": [],
   "source": [
    "derived_measures = list()\n",
    "for k, v in histories.items():\n",
    "    derived_measures.append(process_timesteps(k, v))"
   ],
   "metadata": {
    "collapsed": false,
    "ExecuteTime": {
     "end_time": "2024-06-14T12:45:17.942727800Z",
     "start_time": "2024-06-14T12:44:42.204716400Z"
    }
   }
  },
  {
   "cell_type": "code",
   "execution_count": 67,
   "outputs": [],
   "source": [
    "derived_measures_df = pd.concat(derived_measures)"
   ],
   "metadata": {
    "collapsed": false,
    "ExecuteTime": {
     "end_time": "2024-06-14T12:45:18.420808400Z",
     "start_time": "2024-06-14T12:45:17.949249500Z"
    }
   }
  },
  {
   "cell_type": "code",
   "execution_count": 68,
   "outputs": [
    {
     "data": {
      "text/plain": "                              commentCount24  favoriteCount24  commentCount48  \\\npost_id                                                                         \n16834706|3386937034207327337           337.0           8425.0           399.0   \n20152662|3386937034207327337           339.0           8469.0           390.0   \n2060021|3386931859680649189            429.0          12884.0           440.0   \n3719710|3386931859680649189            423.0          12827.0           439.0   \n12106013|3386928469597852663          1055.0          24790.0           983.0   \n\n                              favoriteCount48  \npost_id                                        \n16834706|3386937034207327337           8616.0  \n20152662|3386937034207327337           8603.0  \n2060021|3386931859680649189           13120.0  \n3719710|3386931859680649189           13141.0  \n12106013|3386928469597852663          25379.0  ",
      "text/html": "<div>\n<style scoped>\n    .dataframe tbody tr th:only-of-type {\n        vertical-align: middle;\n    }\n\n    .dataframe tbody tr th {\n        vertical-align: top;\n    }\n\n    .dataframe thead th {\n        text-align: right;\n    }\n</style>\n<table border=\"1\" class=\"dataframe\">\n  <thead>\n    <tr style=\"text-align: right;\">\n      <th></th>\n      <th>commentCount24</th>\n      <th>favoriteCount24</th>\n      <th>commentCount48</th>\n      <th>favoriteCount48</th>\n    </tr>\n    <tr>\n      <th>post_id</th>\n      <th></th>\n      <th></th>\n      <th></th>\n      <th></th>\n    </tr>\n  </thead>\n  <tbody>\n    <tr>\n      <th>16834706|3386937034207327337</th>\n      <td>337.0</td>\n      <td>8425.0</td>\n      <td>399.0</td>\n      <td>8616.0</td>\n    </tr>\n    <tr>\n      <th>20152662|3386937034207327337</th>\n      <td>339.0</td>\n      <td>8469.0</td>\n      <td>390.0</td>\n      <td>8603.0</td>\n    </tr>\n    <tr>\n      <th>2060021|3386931859680649189</th>\n      <td>429.0</td>\n      <td>12884.0</td>\n      <td>440.0</td>\n      <td>13120.0</td>\n    </tr>\n    <tr>\n      <th>3719710|3386931859680649189</th>\n      <td>423.0</td>\n      <td>12827.0</td>\n      <td>439.0</td>\n      <td>13141.0</td>\n    </tr>\n    <tr>\n      <th>12106013|3386928469597852663</th>\n      <td>1055.0</td>\n      <td>24790.0</td>\n      <td>983.0</td>\n      <td>25379.0</td>\n    </tr>\n  </tbody>\n</table>\n</div>"
     },
     "execution_count": 68,
     "metadata": {},
     "output_type": "execute_result"
    }
   ],
   "source": [
    "derived_measures_df.head()"
   ],
   "metadata": {
    "collapsed": false,
    "ExecuteTime": {
     "end_time": "2024-06-14T12:45:18.456191100Z",
     "start_time": "2024-06-14T12:45:18.423343800Z"
    }
   }
  },
  {
   "cell_type": "code",
   "execution_count": 69,
   "outputs": [],
   "source": [
    "merged_df = pd.merge(df, derived_measures_df, left_on='id', right_index=True, how='left')"
   ],
   "metadata": {
    "collapsed": false,
    "ExecuteTime": {
     "end_time": "2024-06-14T12:45:18.485831600Z",
     "start_time": "2024-06-14T12:45:18.460740700Z"
    }
   }
  },
  {
   "cell_type": "code",
   "execution_count": 70,
   "outputs": [
    {
     "data": {
      "text/plain": "       platformId   platform                date              updated   type  \\\n156  3.386937e+29  Instagram 2024-06-09 23:06:19  2024-06-14 00:31:37  photo   \n157  3.386937e+29  Instagram 2024-06-09 23:06:19  2024-06-14 04:30:43  photo   \n158  3.386932e+28  Instagram 2024-06-09 22:56:02  2024-06-14 05:45:58  photo   \n159  3.386932e+28  Instagram 2024-06-09 22:56:02  2024-06-14 08:06:35  photo   \n160  3.386928e+27  Instagram 2024-06-09 22:49:18  2024-06-14 07:09:39  photo   \n\n                                           description  \\\n156  Un risultato straordinario!\\n\\nStiamo costruen...   \n157  Un risultato straordinario!\\n\\nStiamo costruen...   \n158  Un risultato straordinario, #ForzaItalia cresc...   \n159  Un risultato straordinario, #ForzaItalia cresc...   \n160  Avevamo promesso che saremmo stati la vera sor...   \n\n                                      postUrl  subscriberCount      score  \\\n156  https://www.instagram.com/p/C8A0UmwivRp/            39271  32.532143   \n157  https://www.instagram.com/p/C8A0UmwivRp/             5983  49.505435   \n158  https://www.instagram.com/p/C8AzJTmt9_l/            91180  13.188751   \n159  https://www.instagram.com/p/C8AzJTmt9_l/            58211  13.730159   \n160  https://www.instagram.com/p/C8AyX-WCZP3/            73236  20.299923   \n\n                                                 media  ... languageCode  \\\n156  [{'type': 'photo', 'url': 'https://scontent-se...  ...           it   \n157  [{'type': 'photo', 'url': 'https://scontent-se...  ...           it   \n158  [{'type': 'photo', 'url': 'https://scontent-se...  ...           it   \n159  [{'type': 'photo', 'url': 'https://scontent-se...  ...           it   \n160  [{'type': 'photo', 'url': 'https://scontent-se...  ...           it   \n\n    legacyId                            id              scraped  \\\n156        0  16834706|3386937034207327337  2024-06-14 09:10:16   \n157        0  20152662|3386937034207327337  2024-06-14 09:10:17   \n158        0   2060021|3386931859680649189  2024-06-14 09:10:17   \n159        0   3719710|3386931859680649189  2024-06-14 09:10:18   \n160        0  12106013|3386928469597852663  2024-06-14 09:10:18   \n\n                                             imageText  expandedLinks  \\\n156  IL ILCORAGGIO DIOSARE EUROPEE 2024 Alleanza Ve...            NaN   \n157  IL ILCORAGGIO DIOSARE EUROPEE 2024 Alleanza Ve...            NaN   \n158                                  SPBZO FORZA SILVO            NaN   \n159                                  SPBZO FORZA SILVO            NaN   \n160  DI CORAGGIO EUROPEE EUROPEE2024 2024 OSARE All...            NaN   \n\n    commentCount24 favoriteCount24 commentCount48 favoriteCount48  \n156          337.0          8425.0          399.0          8616.0  \n157          339.0          8469.0          390.0          8603.0  \n158          429.0         12884.0          440.0         13120.0  \n159          423.0         12827.0          439.0         13141.0  \n160         1055.0         24790.0          983.0         25379.0  \n\n[5 rows x 24 columns]",
      "text/html": "<div>\n<style scoped>\n    .dataframe tbody tr th:only-of-type {\n        vertical-align: middle;\n    }\n\n    .dataframe tbody tr th {\n        vertical-align: top;\n    }\n\n    .dataframe thead th {\n        text-align: right;\n    }\n</style>\n<table border=\"1\" class=\"dataframe\">\n  <thead>\n    <tr style=\"text-align: right;\">\n      <th></th>\n      <th>platformId</th>\n      <th>platform</th>\n      <th>date</th>\n      <th>updated</th>\n      <th>type</th>\n      <th>description</th>\n      <th>postUrl</th>\n      <th>subscriberCount</th>\n      <th>score</th>\n      <th>media</th>\n      <th>...</th>\n      <th>languageCode</th>\n      <th>legacyId</th>\n      <th>id</th>\n      <th>scraped</th>\n      <th>imageText</th>\n      <th>expandedLinks</th>\n      <th>commentCount24</th>\n      <th>favoriteCount24</th>\n      <th>commentCount48</th>\n      <th>favoriteCount48</th>\n    </tr>\n  </thead>\n  <tbody>\n    <tr>\n      <th>156</th>\n      <td>3.386937e+29</td>\n      <td>Instagram</td>\n      <td>2024-06-09 23:06:19</td>\n      <td>2024-06-14 00:31:37</td>\n      <td>photo</td>\n      <td>Un risultato straordinario!\\n\\nStiamo costruen...</td>\n      <td>https://www.instagram.com/p/C8A0UmwivRp/</td>\n      <td>39271</td>\n      <td>32.532143</td>\n      <td>[{'type': 'photo', 'url': 'https://scontent-se...</td>\n      <td>...</td>\n      <td>it</td>\n      <td>0</td>\n      <td>16834706|3386937034207327337</td>\n      <td>2024-06-14 09:10:16</td>\n      <td>IL ILCORAGGIO DIOSARE EUROPEE 2024 Alleanza Ve...</td>\n      <td>NaN</td>\n      <td>337.0</td>\n      <td>8425.0</td>\n      <td>399.0</td>\n      <td>8616.0</td>\n    </tr>\n    <tr>\n      <th>157</th>\n      <td>3.386937e+29</td>\n      <td>Instagram</td>\n      <td>2024-06-09 23:06:19</td>\n      <td>2024-06-14 04:30:43</td>\n      <td>photo</td>\n      <td>Un risultato straordinario!\\n\\nStiamo costruen...</td>\n      <td>https://www.instagram.com/p/C8A0UmwivRp/</td>\n      <td>5983</td>\n      <td>49.505435</td>\n      <td>[{'type': 'photo', 'url': 'https://scontent-se...</td>\n      <td>...</td>\n      <td>it</td>\n      <td>0</td>\n      <td>20152662|3386937034207327337</td>\n      <td>2024-06-14 09:10:17</td>\n      <td>IL ILCORAGGIO DIOSARE EUROPEE 2024 Alleanza Ve...</td>\n      <td>NaN</td>\n      <td>339.0</td>\n      <td>8469.0</td>\n      <td>390.0</td>\n      <td>8603.0</td>\n    </tr>\n    <tr>\n      <th>158</th>\n      <td>3.386932e+28</td>\n      <td>Instagram</td>\n      <td>2024-06-09 22:56:02</td>\n      <td>2024-06-14 05:45:58</td>\n      <td>photo</td>\n      <td>Un risultato straordinario, #ForzaItalia cresc...</td>\n      <td>https://www.instagram.com/p/C8AzJTmt9_l/</td>\n      <td>91180</td>\n      <td>13.188751</td>\n      <td>[{'type': 'photo', 'url': 'https://scontent-se...</td>\n      <td>...</td>\n      <td>it</td>\n      <td>0</td>\n      <td>2060021|3386931859680649189</td>\n      <td>2024-06-14 09:10:17</td>\n      <td>SPBZO FORZA SILVO</td>\n      <td>NaN</td>\n      <td>429.0</td>\n      <td>12884.0</td>\n      <td>440.0</td>\n      <td>13120.0</td>\n    </tr>\n    <tr>\n      <th>159</th>\n      <td>3.386932e+28</td>\n      <td>Instagram</td>\n      <td>2024-06-09 22:56:02</td>\n      <td>2024-06-14 08:06:35</td>\n      <td>photo</td>\n      <td>Un risultato straordinario, #ForzaItalia cresc...</td>\n      <td>https://www.instagram.com/p/C8AzJTmt9_l/</td>\n      <td>58211</td>\n      <td>13.730159</td>\n      <td>[{'type': 'photo', 'url': 'https://scontent-se...</td>\n      <td>...</td>\n      <td>it</td>\n      <td>0</td>\n      <td>3719710|3386931859680649189</td>\n      <td>2024-06-14 09:10:18</td>\n      <td>SPBZO FORZA SILVO</td>\n      <td>NaN</td>\n      <td>423.0</td>\n      <td>12827.0</td>\n      <td>439.0</td>\n      <td>13141.0</td>\n    </tr>\n    <tr>\n      <th>160</th>\n      <td>3.386928e+27</td>\n      <td>Instagram</td>\n      <td>2024-06-09 22:49:18</td>\n      <td>2024-06-14 07:09:39</td>\n      <td>photo</td>\n      <td>Avevamo promesso che saremmo stati la vera sor...</td>\n      <td>https://www.instagram.com/p/C8AyX-WCZP3/</td>\n      <td>73236</td>\n      <td>20.299923</td>\n      <td>[{'type': 'photo', 'url': 'https://scontent-se...</td>\n      <td>...</td>\n      <td>it</td>\n      <td>0</td>\n      <td>12106013|3386928469597852663</td>\n      <td>2024-06-14 09:10:18</td>\n      <td>DI CORAGGIO EUROPEE EUROPEE2024 2024 OSARE All...</td>\n      <td>NaN</td>\n      <td>1055.0</td>\n      <td>24790.0</td>\n      <td>983.0</td>\n      <td>25379.0</td>\n    </tr>\n  </tbody>\n</table>\n<p>5 rows × 24 columns</p>\n</div>"
     },
     "execution_count": 70,
     "metadata": {},
     "output_type": "execute_result"
    }
   ],
   "source": [
    "merged_df.head()"
   ],
   "metadata": {
    "collapsed": false,
    "ExecuteTime": {
     "end_time": "2024-06-14T12:45:18.593742100Z",
     "start_time": "2024-06-14T12:45:18.489927600Z"
    }
   }
  },
  {
   "cell_type": "code",
   "execution_count": 71,
   "outputs": [],
   "source": [
    "merged_df.to_csv(f'data/{platform}_merged.csv', index=False)"
   ],
   "metadata": {
    "collapsed": false,
    "ExecuteTime": {
     "end_time": "2024-06-14T12:45:20.100390300Z",
     "start_time": "2024-06-14T12:45:18.564090600Z"
    }
   }
  },
  {
   "cell_type": "code",
   "execution_count": 72,
   "outputs": [],
   "source": [
    "derived_measures_df.to_csv(f'data/{platform}_engagement.csv', index=True)"
   ],
   "metadata": {
    "collapsed": false,
    "ExecuteTime": {
     "end_time": "2024-06-14T12:45:20.151027700Z",
     "start_time": "2024-06-14T12:45:20.104403400Z"
    }
   }
  },
  {
   "cell_type": "code",
   "execution_count": 73,
   "outputs": [],
   "source": [
    "# dal 13/5--10/6 dopo 24 e 48h\n",
    "\n",
    "# like_24h | like_48 | total_engagement_24h | total_engagement_48h | share_24h | share_48 | comment_24h | comment_48"
   ],
   "metadata": {
    "collapsed": false,
    "ExecuteTime": {
     "end_time": "2024-06-14T12:45:20.180722500Z",
     "start_time": "2024-06-14T12:45:20.157042400Z"
    }
   }
  },
  {
   "cell_type": "code",
   "execution_count": 76,
   "outputs": [
    {
     "data": {
      "text/plain": "[{'actual': {'favoriteCount': 224, 'commentCount': 0},\n  'expected': {'favoriteCount': 44, 'commentCount': 2},\n  'timestep': 13,\n  'date': '2024-06-10 01:09:37',\n  'score': 4.869565217391305},\n {'actual': {'favoriteCount': 244, 'commentCount': 1},\n  'expected': {'favoriteCount': 49, 'commentCount': 2},\n  'timestep': 24,\n  'date': '2024-06-10 06:20:05',\n  'score': 4.803921568627451},\n {'actual': {'favoriteCount': 255, 'commentCount': 1},\n  'expected': {'favoriteCount': 54, 'commentCount': 2},\n  'timestep': 27,\n  'date': '2024-06-10 07:51:57',\n  'score': 4.571428571428571},\n {'actual': {'favoriteCount': 278, 'commentCount': 1},\n  'expected': {'favoriteCount': 54, 'commentCount': 2},\n  'timestep': 30,\n  'date': '2024-06-10 11:00:05',\n  'score': 4.982142857142857},\n {'actual': {'favoriteCount': 295, 'commentCount': 2},\n  'expected': {'favoriteCount': 54, 'commentCount': 2},\n  'timestep': 36,\n  'date': '2024-06-10 16:48:08',\n  'score': 5.303571428571429},\n {'actual': {'favoriteCount': 312, 'commentCount': 3},\n  'expected': {'favoriteCount': 54, 'commentCount': 2},\n  'timestep': 40,\n  'date': '2024-06-10 22:58:12',\n  'score': 5.625},\n {'actual': {'favoriteCount': 316, 'commentCount': 3},\n  'expected': {'favoriteCount': 54, 'commentCount': 2},\n  'timestep': 41,\n  'date': '2024-06-11 04:27:15',\n  'score': 5.696428571428571},\n {'actual': {'favoriteCount': 323, 'commentCount': 3},\n  'expected': {'favoriteCount': 54, 'commentCount': 2},\n  'timestep': 42,\n  'date': '2024-06-11 07:36:52',\n  'score': 5.821428571428571},\n {'actual': {'favoriteCount': 327, 'commentCount': 3},\n  'expected': {'favoriteCount': 54, 'commentCount': 2},\n  'timestep': 43,\n  'date': '2024-06-11 09:32:30',\n  'score': 5.892857142857143},\n {'actual': {'favoriteCount': 333, 'commentCount': 3},\n  'expected': {'favoriteCount': 54, 'commentCount': 2},\n  'timestep': 45,\n  'date': '2024-06-11 15:44:05',\n  'score': 6.0},\n {'actual': {'favoriteCount': 341, 'commentCount': 4},\n  'expected': {'favoriteCount': 54, 'commentCount': 2},\n  'timestep': 47,\n  'date': '2024-06-11 23:44:51',\n  'score': 6.160714285714286},\n {'actual': {'favoriteCount': 341, 'commentCount': 4},\n  'expected': {'favoriteCount': 55, 'commentCount': 2},\n  'timestep': 48,\n  'date': '2024-06-12 05:34:55',\n  'score': 6.052631578947368},\n {'actual': {'favoriteCount': 342, 'commentCount': 4},\n  'expected': {'favoriteCount': 56, 'commentCount': 2},\n  'timestep': 49,\n  'date': '2024-06-12 11:14:41',\n  'score': 5.96551724137931},\n {'actual': {'favoriteCount': 344, 'commentCount': 5},\n  'expected': {'favoriteCount': 56, 'commentCount': 2},\n  'timestep': 50,\n  'date': '2024-06-12 19:07:48',\n  'score': 6.017241379310345},\n {'actual': {'favoriteCount': 347, 'commentCount': 5},\n  'expected': {'favoriteCount': 58, 'commentCount': 2},\n  'timestep': 52,\n  'date': '2024-06-13 07:20:45',\n  'score': 5.866666666666666},\n {'actual': {'favoriteCount': 347, 'commentCount': 5},\n  'expected': {'favoriteCount': 58, 'commentCount': 2},\n  'timestep': 53,\n  'date': '2024-06-13 07:53:18',\n  'score': 5.866666666666666},\n {'actual': {'favoriteCount': 347, 'commentCount': 5},\n  'expected': {'favoriteCount': 58, 'commentCount': 2},\n  'timestep': 54,\n  'date': '2024-06-13 13:47:05',\n  'score': 5.866666666666666},\n {'actual': {'favoriteCount': 350, 'commentCount': 5},\n  'expected': {'favoriteCount': 58, 'commentCount': 2},\n  'timestep': 55,\n  'date': '2024-06-13 21:23:06',\n  'score': 5.916666666666667},\n {'actual': {'favoriteCount': 350, 'commentCount': 5},\n  'expected': {'favoriteCount': 58, 'commentCount': 2},\n  'timestep': 56,\n  'date': '2024-06-14 08:39:49',\n  'score': 5.916666666666667}]"
     },
     "execution_count": 76,
     "metadata": {},
     "output_type": "execute_result"
    }
   ],
   "source": [
    "sorted(merged_df[merged_df.commentCount24.isna()].iloc[0].history, key=lambda x: x['timestep'])"
   ],
   "metadata": {
    "collapsed": false,
    "ExecuteTime": {
     "end_time": "2024-06-14T13:33:55.771869Z",
     "start_time": "2024-06-14T13:33:55.725388700Z"
    }
   }
  },
  {
   "cell_type": "code",
   "execution_count": 77,
   "outputs": [
    {
     "data": {
      "text/plain": "165     19\n167     20\n188     18\n191     19\n196     22\n        ..\n2281    34\n2291    21\n2294    25\n2295    20\n2297    18\nName: history, Length: 484, dtype: int64"
     },
     "execution_count": 77,
     "metadata": {},
     "output_type": "execute_result"
    }
   ],
   "source": [
    "merged_df[merged_df.commentCount24.isna()].history.apply(len)"
   ],
   "metadata": {
    "collapsed": false,
    "ExecuteTime": {
     "end_time": "2024-06-14T13:34:33.997149500Z",
     "start_time": "2024-06-14T13:34:33.973046400Z"
    }
   }
  },
  {
   "cell_type": "code",
   "execution_count": null,
   "outputs": [],
   "source": [],
   "metadata": {
    "collapsed": false
   }
  }
 ],
 "metadata": {
  "kernelspec": {
   "display_name": "Python 3",
   "language": "python",
   "name": "python3"
  },
  "language_info": {
   "codemirror_mode": {
    "name": "ipython",
    "version": 2
   },
   "file_extension": ".py",
   "mimetype": "text/x-python",
   "name": "python",
   "nbconvert_exporter": "python",
   "pygments_lexer": "ipython2",
   "version": "2.7.6"
  }
 },
 "nbformat": 4,
 "nbformat_minor": 0
}
